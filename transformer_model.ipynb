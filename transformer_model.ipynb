{
  "cells": [
    {
      "cell_type": "code",
      "source": [
        "!pip install datasets"
      ],
      "metadata": {
        "colab": {
          "base_uri": "https://localhost:8080/"
        },
        "id": "Z7w_so_5KHtr",
        "outputId": "9bf3a8fc-4565-4aba-99a3-d6fc02d93e0e"
      },
      "execution_count": 1,
      "outputs": [
        {
          "output_type": "stream",
          "name": "stdout",
          "text": [
            "Collecting datasets\n",
            "  Downloading datasets-2.18.0-py3-none-any.whl (510 kB)\n",
            "\u001b[2K     \u001b[90m━━━━━━━━━━━━━━━━━━━━━━━━━━━━━━━━━━━━━━━━\u001b[0m \u001b[32m510.5/510.5 kB\u001b[0m \u001b[31m3.2 MB/s\u001b[0m eta \u001b[36m0:00:00\u001b[0m\n",
            "\u001b[?25hRequirement already satisfied: filelock in /usr/local/lib/python3.10/dist-packages (from datasets) (3.13.3)\n",
            "Requirement already satisfied: numpy>=1.17 in /usr/local/lib/python3.10/dist-packages (from datasets) (1.25.2)\n",
            "Requirement already satisfied: pyarrow>=12.0.0 in /usr/local/lib/python3.10/dist-packages (from datasets) (14.0.2)\n",
            "Requirement already satisfied: pyarrow-hotfix in /usr/local/lib/python3.10/dist-packages (from datasets) (0.6)\n",
            "Collecting dill<0.3.9,>=0.3.0 (from datasets)\n",
            "  Downloading dill-0.3.8-py3-none-any.whl (116 kB)\n",
            "\u001b[2K     \u001b[90m━━━━━━━━━━━━━━━━━━━━━━━━━━━━━━━━━━━━━━━━\u001b[0m \u001b[32m116.3/116.3 kB\u001b[0m \u001b[31m7.6 MB/s\u001b[0m eta \u001b[36m0:00:00\u001b[0m\n",
            "\u001b[?25hRequirement already satisfied: pandas in /usr/local/lib/python3.10/dist-packages (from datasets) (1.5.3)\n",
            "Requirement already satisfied: requests>=2.19.0 in /usr/local/lib/python3.10/dist-packages (from datasets) (2.31.0)\n",
            "Requirement already satisfied: tqdm>=4.62.1 in /usr/local/lib/python3.10/dist-packages (from datasets) (4.66.2)\n",
            "Collecting xxhash (from datasets)\n",
            "  Downloading xxhash-3.4.1-cp310-cp310-manylinux_2_17_x86_64.manylinux2014_x86_64.whl (194 kB)\n",
            "\u001b[2K     \u001b[90m━━━━━━━━━━━━━━━━━━━━━━━━━━━━━━━━━━━━━━━━\u001b[0m \u001b[32m194.1/194.1 kB\u001b[0m \u001b[31m8.8 MB/s\u001b[0m eta \u001b[36m0:00:00\u001b[0m\n",
            "\u001b[?25hCollecting multiprocess (from datasets)\n",
            "  Downloading multiprocess-0.70.16-py310-none-any.whl (134 kB)\n",
            "\u001b[2K     \u001b[90m━━━━━━━━━━━━━━━━━━━━━━━━━━━━━━━━━━━━━━━━\u001b[0m \u001b[32m134.8/134.8 kB\u001b[0m \u001b[31m9.0 MB/s\u001b[0m eta \u001b[36m0:00:00\u001b[0m\n",
            "\u001b[?25hRequirement already satisfied: fsspec[http]<=2024.2.0,>=2023.1.0 in /usr/local/lib/python3.10/dist-packages (from datasets) (2023.6.0)\n",
            "Requirement already satisfied: aiohttp in /usr/local/lib/python3.10/dist-packages (from datasets) (3.9.3)\n",
            "Requirement already satisfied: huggingface-hub>=0.19.4 in /usr/local/lib/python3.10/dist-packages (from datasets) (0.20.3)\n",
            "Requirement already satisfied: packaging in /usr/local/lib/python3.10/dist-packages (from datasets) (24.0)\n",
            "Requirement already satisfied: pyyaml>=5.1 in /usr/local/lib/python3.10/dist-packages (from datasets) (6.0.1)\n",
            "Requirement already satisfied: aiosignal>=1.1.2 in /usr/local/lib/python3.10/dist-packages (from aiohttp->datasets) (1.3.1)\n",
            "Requirement already satisfied: attrs>=17.3.0 in /usr/local/lib/python3.10/dist-packages (from aiohttp->datasets) (23.2.0)\n",
            "Requirement already satisfied: frozenlist>=1.1.1 in /usr/local/lib/python3.10/dist-packages (from aiohttp->datasets) (1.4.1)\n",
            "Requirement already satisfied: multidict<7.0,>=4.5 in /usr/local/lib/python3.10/dist-packages (from aiohttp->datasets) (6.0.5)\n",
            "Requirement already satisfied: yarl<2.0,>=1.0 in /usr/local/lib/python3.10/dist-packages (from aiohttp->datasets) (1.9.4)\n",
            "Requirement already satisfied: async-timeout<5.0,>=4.0 in /usr/local/lib/python3.10/dist-packages (from aiohttp->datasets) (4.0.3)\n",
            "Requirement already satisfied: typing-extensions>=3.7.4.3 in /usr/local/lib/python3.10/dist-packages (from huggingface-hub>=0.19.4->datasets) (4.10.0)\n",
            "Requirement already satisfied: charset-normalizer<4,>=2 in /usr/local/lib/python3.10/dist-packages (from requests>=2.19.0->datasets) (3.3.2)\n",
            "Requirement already satisfied: idna<4,>=2.5 in /usr/local/lib/python3.10/dist-packages (from requests>=2.19.0->datasets) (3.6)\n",
            "Requirement already satisfied: urllib3<3,>=1.21.1 in /usr/local/lib/python3.10/dist-packages (from requests>=2.19.0->datasets) (2.0.7)\n",
            "Requirement already satisfied: certifi>=2017.4.17 in /usr/local/lib/python3.10/dist-packages (from requests>=2.19.0->datasets) (2024.2.2)\n",
            "Requirement already satisfied: python-dateutil>=2.8.1 in /usr/local/lib/python3.10/dist-packages (from pandas->datasets) (2.8.2)\n",
            "Requirement already satisfied: pytz>=2020.1 in /usr/local/lib/python3.10/dist-packages (from pandas->datasets) (2023.4)\n",
            "Requirement already satisfied: six>=1.5 in /usr/local/lib/python3.10/dist-packages (from python-dateutil>=2.8.1->pandas->datasets) (1.16.0)\n",
            "Installing collected packages: xxhash, dill, multiprocess, datasets\n",
            "Successfully installed datasets-2.18.0 dill-0.3.8 multiprocess-0.70.16 xxhash-3.4.1\n"
          ]
        }
      ]
    },
    {
      "cell_type": "code",
      "source": [
        "!pip install nltk"
      ],
      "metadata": {
        "colab": {
          "base_uri": "https://localhost:8080/"
        },
        "id": "0_iLigLCKKtb",
        "outputId": "d225b9a7-2ef5-4af1-9a9b-bab272feec3c"
      },
      "execution_count": 2,
      "outputs": [
        {
          "output_type": "stream",
          "name": "stdout",
          "text": [
            "Requirement already satisfied: nltk in /usr/local/lib/python3.10/dist-packages (3.8.1)\n",
            "Requirement already satisfied: click in /usr/local/lib/python3.10/dist-packages (from nltk) (8.1.7)\n",
            "Requirement already satisfied: joblib in /usr/local/lib/python3.10/dist-packages (from nltk) (1.3.2)\n",
            "Requirement already satisfied: regex>=2021.8.3 in /usr/local/lib/python3.10/dist-packages (from nltk) (2023.12.25)\n",
            "Requirement already satisfied: tqdm in /usr/local/lib/python3.10/dist-packages (from nltk) (4.66.2)\n"
          ]
        }
      ]
    },
    {
      "cell_type": "code",
      "execution_count": null,
      "metadata": {
        "id": "oFX51lqDJLfv",
        "outputId": "29f1fbd2-6d3a-4f6f-a502-432ea2bcb94c"
      },
      "outputs": [
        {
          "ename": "ModuleNotFoundError",
          "evalue": "No module named 'datasets'",
          "output_type": "error",
          "traceback": [
            "\u001b[1;31m---------------------------------------------------------------------------\u001b[0m",
            "\u001b[1;31mModuleNotFoundError\u001b[0m                       Traceback (most recent call last)",
            "Cell \u001b[1;32mIn[4], line 1\u001b[0m\n\u001b[1;32m----> 1\u001b[0m \u001b[38;5;28;01mfrom\u001b[39;00m \u001b[38;5;21;01mdatasets\u001b[39;00m \u001b[38;5;28;01mimport\u001b[39;00m load_dataset\n\u001b[0;32m      2\u001b[0m \u001b[38;5;28;01mfrom\u001b[39;00m \u001b[38;5;21;01mnltk\u001b[39;00m\u001b[38;5;21;01m.\u001b[39;00m\u001b[38;5;21;01mtokenize\u001b[39;00m \u001b[38;5;28;01mimport\u001b[39;00m wordpunct_tokenize\n\u001b[0;32m      3\u001b[0m dataset \u001b[38;5;241m=\u001b[39m load_dataset(\u001b[38;5;124m'\u001b[39m\u001b[38;5;124mag_news\u001b[39m\u001b[38;5;124m'\u001b[39m)\n",
            "\u001b[1;31mModuleNotFoundError\u001b[0m: No module named 'datasets'"
          ]
        }
      ],
      "source": [
        "from datasets import load_dataset\n",
        "from nltk.tokenize import wordpunct_tokenize\n",
        "dataset = load_dataset('ag_news')"
      ]
    },
    {
      "cell_type": "code",
      "execution_count": null,
      "metadata": {
        "id": "Yw4ut7CPJLfw"
      },
      "outputs": [],
      "source": [
        "text=[]\n",
        "label=[]\n",
        "for row in dataset['train']['text']+dataset['test']['text']:\n",
        "    text.append(wordpunct_tokenize(row.lower()))\n",
        "for row in dataset['train']['label']+dataset['test']['label']:\n",
        "    label.append(row)"
      ]
    },
    {
      "cell_type": "code",
      "execution_count": null,
      "metadata": {
        "id": "2RjXB8_7JLfx"
      },
      "outputs": [],
      "source": [
        "word_dict={'PADDING':0}\n",
        "for sent in text:\n",
        "    for token in sent:\n",
        "        if token not in word_dict:\n",
        "            word_dict[token]=len(word_dict)"
      ]
    },
    {
      "cell_type": "code",
      "execution_count": null,
      "metadata": {
        "id": "6Ip07GQEJLfx"
      },
      "outputs": [],
      "source": [
        "news_words = []\n",
        "for sent in text:\n",
        "    sample=[]\n",
        "    for token in sent:\n",
        "        sample.append(word_dict[token])\n",
        "    sample = sample[:256]\n",
        "    news_words.append(sample+[0]*(256-len(sample)))\n"
      ]
    },
    {
      "cell_type": "code",
      "execution_count": null,
      "metadata": {
        "id": "B6WblpqrJLfx"
      },
      "outputs": [],
      "source": [
        "import numpy as np\n",
        "news_words=np.array(news_words,dtype='int32')\n",
        "label=np.array(label,dtype='int32')"
      ]
    },
    {
      "cell_type": "code",
      "execution_count": null,
      "metadata": {
        "id": "fMmxwqB9JLfx"
      },
      "outputs": [],
      "source": [
        "index=np.arange(len(label))\n",
        "train_index=index[:120000]\n",
        "np.random.shuffle(train_index)\n",
        "test_index=index[120000:]"
      ]
    },
    {
      "cell_type": "code",
      "execution_count": null,
      "metadata": {
        "id": "sHHKHw1qJLfy"
      },
      "outputs": [],
      "source": [
        "import os\n",
        "import logging\n",
        "os.environ[\"CUDA_VISIBLE_DEVICES\"] = \"1\"\n"
      ]
    },
    {
      "cell_type": "code",
      "execution_count": null,
      "metadata": {
        "id": "15bNYZwfJLfy"
      },
      "outputs": [],
      "source": [
        "from transformers import BertConfig\n",
        "from transformers.models.bert.modeling_bert import BertSelfOutput, BertIntermediate, BertOutput\n",
        "config=BertConfig.from_json_file('fastformer.json')\n"
      ]
    },
    {
      "cell_type": "code",
      "execution_count": null,
      "metadata": {
        "id": "z5NXHN5BJLfy"
      },
      "outputs": [],
      "source": [
        "import torch\n",
        "import torch.nn as nn\n",
        "\n",
        "class AttentionPooling(nn.Module):\n",
        "    def __init__(self, config):\n",
        "        self.config = config\n",
        "        super(AttentionPooling, self).__init__()\n",
        "        self.att_fc1 = nn.Linear(config.hidden_size, config.hidden_size)\n",
        "        self.att_fc2 = nn.Linear(config.hidden_size, 1)\n",
        "        self.apply(self.init_weights)\n",
        "\n",
        "    def init_weights(self, module):\n",
        "        if isinstance(module, nn.Linear):\n",
        "            module.weight.data.normal_(mean=0.0, std=self.config.initializer_range)\n",
        "        if isinstance(module, nn.Linear) and module.bias is not None:\n",
        "            module.bias.data.zero_()\n",
        "\n",
        "\n",
        "    def forward(self, x, attn_mask=None):\n",
        "        bz = x.shape[0]\n",
        "        e = self.att_fc1(x)\n",
        "        e = nn.Tanh()(e)\n",
        "        alpha = self.att_fc2(e)\n",
        "        alpha = torch.exp(alpha)\n",
        "        if attn_mask is not None:\n",
        "            alpha = alpha * attn_mask.unsqueeze(2)\n",
        "        alpha = alpha / (torch.sum(alpha, dim=1, keepdim=True) + 1e-8)\n",
        "        x = torch.bmm(x.permute(0, 2, 1), alpha)\n",
        "        x = torch.reshape(x, (bz, -1))\n",
        "        return x\n",
        "\n",
        "class FastSelfAttention(nn.Module):\n",
        "    def __init__(self, config):\n",
        "        super(FastSelfAttention, self).__init__()\n",
        "        self.config = config\n",
        "        if config.hidden_size % config.num_attention_heads != 0:\n",
        "            raise ValueError(\n",
        "                \"The hidden size (%d) is not a multiple of the number of attention \"\n",
        "                \"heads (%d)\" %\n",
        "                (config.hidden_size, config.num_attention_heads))\n",
        "        self.attention_head_size = int(config.hidden_size /config.num_attention_heads)\n",
        "        self.num_attention_heads = config.num_attention_heads\n",
        "        self.all_head_size = self.num_attention_heads * self.attention_head_size\n",
        "        self.input_dim= config.hidden_size\n",
        "\n",
        "        self.query = nn.Linear(self.input_dim, self.all_head_size)\n",
        "        self.query_att = nn.Linear(self.all_head_size, self.num_attention_heads)\n",
        "        self.key = nn.Linear(self.input_dim, self.all_head_size)\n",
        "        self.key_att = nn.Linear(self.all_head_size, self.num_attention_heads)\n",
        "        self.transform = nn.Linear(self.all_head_size, self.all_head_size)\n",
        "\n",
        "        self.softmax = nn.Softmax(dim=-1)\n",
        "\n",
        "        self.apply(self.init_weights)\n",
        "\n",
        "    def init_weights(self, module):\n",
        "        if isinstance(module, nn.Linear):\n",
        "            module.weight.data.normal_(mean=0.0, std=self.config.initializer_range)\n",
        "        if isinstance(module, nn.Linear) and module.bias is not None:\n",
        "            module.bias.data.zero_()\n",
        "\n",
        "    def transpose_for_scores(self, x):\n",
        "        new_x_shape = x.size()[:-1] + (self.num_attention_heads,\n",
        "                                       self.attention_head_size)\n",
        "        x = x.view(*new_x_shape)\n",
        "        return x.permute(0, 2, 1, 3)\n",
        "\n",
        "    def forward(self, hidden_states, attention_mask):\n",
        "\n",
        "        batch_size, seq_len, _ = hidden_states.shape\n",
        "        mixed_query_layer = self.query(hidden_states)\n",
        "        mixed_key_layer = self.key(hidden_states)\n",
        "\n",
        "        query_for_score = self.query_att(mixed_query_layer).transpose(1, 2) / self.attention_head_size**0.5\n",
        "\n",
        "        query_for_score += attention_mask\n",
        "\n",
        "\n",
        "        query_weight = self.softmax(query_for_score).unsqueeze(2)\n",
        "\n",
        "\n",
        "        query_layer = self.transpose_for_scores(mixed_query_layer)\n",
        "\n",
        "\n",
        "        pooled_query = torch.matmul(query_weight, query_layer).transpose(1, 2).view(-1,1,self.num_attention_heads*self.attention_head_size)\n",
        "        pooled_query_repeat= pooled_query.repeat(1, seq_len,1)\n",
        "\n",
        "        mixed_query_key_layer=mixed_key_layer* pooled_query_repeat\n",
        "\n",
        "        query_key_score=(self.key_att(mixed_query_key_layer)/ self.attention_head_size**0.5).transpose(1, 2)\n",
        "\n",
        "\n",
        "        query_key_score +=attention_mask\n",
        "\n",
        "\n",
        "        query_key_weight = self.softmax(query_key_score).unsqueeze(2)\n",
        "\n",
        "        key_layer = self.transpose_for_scores(mixed_query_key_layer)\n",
        "        pooled_key = torch.matmul(query_key_weight, key_layer)\n",
        "\n",
        "\n",
        "        weighted_value =(pooled_key * query_layer).transpose(1, 2)\n",
        "        weighted_value = weighted_value.reshape(\n",
        "            weighted_value.size()[:-2] + (self.num_attention_heads * self.attention_head_size,))\n",
        "        weighted_value = self.transform(weighted_value) + mixed_query_layer\n",
        "\n",
        "        return weighted_value"
      ]
    },
    {
      "cell_type": "code",
      "execution_count": null,
      "metadata": {
        "id": "kdIONnzxJLfy"
      },
      "outputs": [],
      "source": [
        "\n",
        "class FastAttention(nn.Module):\n",
        "    def __init__(self, config):\n",
        "        super(FastAttention, self).__init__()\n",
        "        self.self = FastSelfAttention(config)\n",
        "        self.output = BertSelfOutput(config)\n",
        "\n",
        "    def forward(self, input_tensor, attention_mask):\n",
        "        self_output = self.self(input_tensor, attention_mask)\n",
        "        attention_output = self.output(self_output, input_tensor)\n",
        "        return attention_output\n",
        "\n",
        "class FastformerLayer(nn.Module):\n",
        "    def __init__(self, config):\n",
        "        super(FastformerLayer, self).__init__()\n",
        "        self.attention = FastAttention(config)\n",
        "        self.intermediate = BertIntermediate(config)\n",
        "        self.output = BertOutput(config)\n",
        "\n",
        "    def forward(self, hidden_states, attention_mask):\n",
        "        attention_output = self.attention(hidden_states, attention_mask)\n",
        "        intermediate_output = self.intermediate(attention_output)\n",
        "        layer_output = self.output(intermediate_output, attention_output)\n",
        "        return layer_output\n",
        "\n",
        "class FastformerEncoder(nn.Module):\n",
        "    def __init__(self, config, pooler_count=1):\n",
        "        super(FastformerEncoder, self).__init__()\n",
        "        self.config = config\n",
        "        self.encoders = nn.ModuleList([FastformerLayer(config) for _ in range(config.num_hidden_layers)])\n",
        "        self.position_embeddings = nn.Embedding(config.max_position_embeddings, config.hidden_size)\n",
        "        self.LayerNorm = nn.LayerNorm(config.hidden_size, eps=config.layer_norm_eps)\n",
        "        self.dropout = nn.Dropout(config.hidden_dropout_prob)\n",
        "\n",
        "        # support multiple different poolers with shared bert encoder.\n",
        "        self.poolers = nn.ModuleList()\n",
        "        if config.pooler_type == 'weightpooler':\n",
        "            for _ in range(pooler_count):\n",
        "                self.poolers.append(AttentionPooling(config))\n",
        "        logging.info(f\"This model has {len(self.poolers)} poolers.\")\n",
        "\n",
        "        self.apply(self.init_weights)\n",
        "\n",
        "    def init_weights(self, module):\n",
        "        if isinstance(module, (nn.Linear, nn.Embedding)):\n",
        "            module.weight.data.normal_(mean=0.0, std=self.config.initializer_range)\n",
        "            if isinstance(module, (nn.Embedding)) and module.padding_idx is not None:\n",
        "                with torch.no_grad():\n",
        "                    module.weight[module.padding_idx].fill_(0)\n",
        "        elif isinstance(module, nn.LayerNorm):\n",
        "            module.bias.data.zero_()\n",
        "            module.weight.data.fill_(1.0)\n",
        "        if isinstance(module, nn.Linear) and module.bias is not None:\n",
        "            module.bias.data.zero_()\n",
        "\n",
        "    def forward(self,\n",
        "                input_embs,\n",
        "                attention_mask,\n",
        "                pooler_index=0):\n",
        "\n",
        "\n",
        "        extended_attention_mask = attention_mask.unsqueeze(1)\n",
        "        extended_attention_mask = extended_attention_mask.to(dtype=next(self.parameters()).dtype)\n",
        "        extended_attention_mask = (1.0 - extended_attention_mask) * -10000.0\n",
        "\n",
        "        batch_size, seq_length, emb_dim = input_embs.shape\n",
        "        position_ids = torch.arange(seq_length, dtype=torch.long, device=input_embs.device)\n",
        "        position_ids = position_ids.unsqueeze(0).expand(batch_size, -1)\n",
        "        position_embeddings = self.position_embeddings(position_ids)\n",
        "\n",
        "        embeddings = input_embs + position_embeddings\n",
        "\n",
        "        embeddings = self.LayerNorm(embeddings)\n",
        "        embeddings = self.dropout(embeddings)\n",
        "\n",
        "        all_hidden_states = [embeddings]\n",
        "\n",
        "        for i, layer_module in enumerate(self.encoders):\n",
        "            layer_outputs = layer_module(all_hidden_states[-1], extended_attention_mask)\n",
        "            all_hidden_states.append(layer_outputs)\n",
        "        assert len(self.poolers) > pooler_index\n",
        "        output = self.poolers[pooler_index](all_hidden_states[-1], attention_mask)\n",
        "\n",
        "        return output\n"
      ]
    },
    {
      "cell_type": "code",
      "execution_count": null,
      "metadata": {
        "id": "Yh97Av9RJLfz"
      },
      "outputs": [],
      "source": [
        "\n",
        "class Model(torch.nn.Module):\n",
        "\n",
        "    def __init__(self,config):\n",
        "        super(Model, self).__init__()\n",
        "        self.config = config\n",
        "        self.dense_linear = nn.Linear(config.hidden_size,4)\n",
        "        self.word_embedding = nn.Embedding(len(word_dict),256,padding_idx=0)\n",
        "        self.fastformer_model = FastformerEncoder(config)\n",
        "        self.criterion = nn.CrossEntropyLoss()\n",
        "        self.apply(self.init_weights)\n",
        "\n",
        "    def init_weights(self, module):\n",
        "        if isinstance(module, (nn.Linear, nn.Embedding)):\n",
        "            module.weight.data.normal_(mean=0.0, std=self.config.initializer_range)\n",
        "            if isinstance(module, (nn.Embedding)) and module.padding_idx is not None:\n",
        "                with torch.no_grad():\n",
        "                    module.weight[module.padding_idx].fill_(0)\n",
        "        if isinstance(module, nn.Linear) and module.bias is not None:\n",
        "            module.bias.data.zero_()\n",
        "\n",
        "    def forward(self,input_ids,targets):\n",
        "        mask=input_ids.bool().float()\n",
        "        embds=self.word_embedding(input_ids)\n",
        "        text_vec = self.fastformer_model(embds,mask)\n",
        "        score = self.dense_linear(text_vec)\n",
        "        loss = self.criterion(score, targets)\n",
        "        return loss, score"
      ]
    },
    {
      "cell_type": "code",
      "execution_count": null,
      "metadata": {
        "id": "1O9tln60JLfz"
      },
      "outputs": [],
      "source": [
        "def acc(y_true, y_hat):\n",
        "    y_hat = torch.argmax(y_hat, dim=-1)\n",
        "    tot = y_true.shape[0]\n",
        "    hit = torch.sum(y_true == y_hat)\n",
        "    return hit.data.float() * 1.0 / tot"
      ]
    },
    {
      "cell_type": "code",
      "execution_count": null,
      "metadata": {
        "id": "ES9ZSScVJLf0",
        "outputId": "c89d96cf-ac3b-44b1-b0b3-389f675dcf4e"
      },
      "outputs": [
        {
          "data": {
            "text/plain": [
              "Model(\n",
              "  (dense_linear): Linear(in_features=256, out_features=4, bias=True)\n",
              "  (word_embedding): Embedding(66818, 256, padding_idx=0)\n",
              "  (fastformer_model): FastformerEncoder(\n",
              "    (encoders): ModuleList(\n",
              "      (0): FastformerLayer(\n",
              "        (attention): FastAttention(\n",
              "          (self): FastSelfAttention(\n",
              "            (query): Linear(in_features=256, out_features=256, bias=True)\n",
              "            (query_att): Linear(in_features=256, out_features=16, bias=True)\n",
              "            (key): Linear(in_features=256, out_features=256, bias=True)\n",
              "            (key_att): Linear(in_features=256, out_features=16, bias=True)\n",
              "            (transform): Linear(in_features=256, out_features=256, bias=True)\n",
              "            (softmax): Softmax(dim=-1)\n",
              "          )\n",
              "          (output): BertSelfOutput(\n",
              "            (dense): Linear(in_features=256, out_features=256, bias=True)\n",
              "            (LayerNorm): LayerNorm((256,), eps=1e-12, elementwise_affine=True)\n",
              "            (dropout): Dropout(p=0.2, inplace=False)\n",
              "          )\n",
              "        )\n",
              "        (intermediate): BertIntermediate(\n",
              "          (dense): Linear(in_features=256, out_features=256, bias=True)\n",
              "        )\n",
              "        (output): BertOutput(\n",
              "          (dense): Linear(in_features=256, out_features=256, bias=True)\n",
              "          (LayerNorm): LayerNorm((256,), eps=1e-12, elementwise_affine=True)\n",
              "          (dropout): Dropout(p=0.2, inplace=False)\n",
              "        )\n",
              "      )\n",
              "      (1): FastformerLayer(\n",
              "        (attention): FastAttention(\n",
              "          (self): FastSelfAttention(\n",
              "            (query): Linear(in_features=256, out_features=256, bias=True)\n",
              "            (query_att): Linear(in_features=256, out_features=16, bias=True)\n",
              "            (key): Linear(in_features=256, out_features=256, bias=True)\n",
              "            (key_att): Linear(in_features=256, out_features=16, bias=True)\n",
              "            (transform): Linear(in_features=256, out_features=256, bias=True)\n",
              "            (softmax): Softmax(dim=-1)\n",
              "          )\n",
              "          (output): BertSelfOutput(\n",
              "            (dense): Linear(in_features=256, out_features=256, bias=True)\n",
              "            (LayerNorm): LayerNorm((256,), eps=1e-12, elementwise_affine=True)\n",
              "            (dropout): Dropout(p=0.2, inplace=False)\n",
              "          )\n",
              "        )\n",
              "        (intermediate): BertIntermediate(\n",
              "          (dense): Linear(in_features=256, out_features=256, bias=True)\n",
              "        )\n",
              "        (output): BertOutput(\n",
              "          (dense): Linear(in_features=256, out_features=256, bias=True)\n",
              "          (LayerNorm): LayerNorm((256,), eps=1e-12, elementwise_affine=True)\n",
              "          (dropout): Dropout(p=0.2, inplace=False)\n",
              "        )\n",
              "      )\n",
              "    )\n",
              "    (position_embeddings): Embedding(256, 256)\n",
              "    (LayerNorm): LayerNorm((256,), eps=1e-12, elementwise_affine=True)\n",
              "    (dropout): Dropout(p=0.2, inplace=False)\n",
              "    (poolers): ModuleList(\n",
              "      (0): AttentionPooling(\n",
              "        (att_fc1): Linear(in_features=256, out_features=256, bias=True)\n",
              "        (att_fc2): Linear(in_features=256, out_features=1, bias=True)\n",
              "      )\n",
              "    )\n",
              "  )\n",
              "  (criterion): CrossEntropyLoss()\n",
              ")"
            ]
          },
          "execution_count": 111,
          "metadata": {},
          "output_type": "execute_result"
        }
      ],
      "source": [
        "model = Model(config)\n",
        "import torch.optim as optim\n",
        "optimizer = optim.Adam([ {'params': model.parameters(), 'lr': 1e-3}])\n",
        "model.cuda()"
      ]
    },
    {
      "cell_type": "code",
      "execution_count": null,
      "metadata": {
        "id": "sOwuQZJ8JLf0",
        "outputId": "b263c32b-167e-4676-8ee6-657cfa04c3c4"
      },
      "outputs": [
        {
          "name": "stdout",
          "output_type": "stream",
          "text": [
            " Ed: 0, train_loss: 1.38936, acc: 0.20312\n",
            " Ed: 6400, train_loss: 0.59932, acc: 0.77135\n",
            " Ed: 12800, train_loss: 0.47238, acc: 0.82774\n",
            " Ed: 19200, train_loss: 0.42074, acc: 0.84988\n",
            " Ed: 25600, train_loss: 0.39129, acc: 0.86234\n",
            " Ed: 32000, train_loss: 0.37110, acc: 0.87004\n",
            " Ed: 38400, train_loss: 0.35466, acc: 0.87656\n",
            " Ed: 44800, train_loss: 0.34215, acc: 0.88137\n",
            " Ed: 51200, train_loss: 0.33404, acc: 0.88442\n",
            " Ed: 57600, train_loss: 0.32441, acc: 0.88820\n",
            " Ed: 64000, train_loss: 0.31654, acc: 0.89111\n",
            " Ed: 70400, train_loss: 0.31033, acc: 0.89336\n",
            " Ed: 76800, train_loss: 0.30431, acc: 0.89562\n",
            " Ed: 83200, train_loss: 0.29853, acc: 0.89778\n",
            " Ed: 89600, train_loss: 0.29410, acc: 0.89949\n",
            " Ed: 96000, train_loss: 0.29110, acc: 0.90074\n",
            " Ed: 102400, train_loss: 0.28680, acc: 0.90223\n",
            " Ed: 108800, train_loss: 0.28471, acc: 0.90309\n",
            " Ed: 115200, train_loss: 0.28077, acc: 0.90427\n",
            "0.9235526315789474\n",
            " Ed: 0, train_loss: 0.16773, acc: 0.95312\n",
            " Ed: 6400, train_loss: 0.18398, acc: 0.93673\n",
            " Ed: 12800, train_loss: 0.17103, acc: 0.94038\n",
            " Ed: 19200, train_loss: 0.16540, acc: 0.94285\n",
            " Ed: 25600, train_loss: 0.16188, acc: 0.94389\n",
            " Ed: 32000, train_loss: 0.15936, acc: 0.94414\n",
            " Ed: 38400, train_loss: 0.15465, acc: 0.94572\n",
            " Ed: 44800, train_loss: 0.15194, acc: 0.94655\n",
            " Ed: 51200, train_loss: 0.15035, acc: 0.94737\n",
            " Ed: 57600, train_loss: 0.14845, acc: 0.94827\n",
            " Ed: 64000, train_loss: 0.14617, acc: 0.94897\n",
            " Ed: 70400, train_loss: 0.14536, acc: 0.94941\n",
            " Ed: 76800, train_loss: 0.14417, acc: 0.94992\n",
            " Ed: 83200, train_loss: 0.14298, acc: 0.95030\n",
            " Ed: 89600, train_loss: 0.14216, acc: 0.95063\n",
            " Ed: 96000, train_loss: 0.14231, acc: 0.95071\n",
            " Ed: 102400, train_loss: 0.14160, acc: 0.95107\n",
            " Ed: 108800, train_loss: 0.14129, acc: 0.95128\n",
            " Ed: 115200, train_loss: 0.13996, acc: 0.95181\n",
            "0.9271052631578948\n"
          ]
        }
      ],
      "source": [
        "for epoch in range(2):\n",
        "    loss = 0.0\n",
        "    accuary = 0.0\n",
        "    for cnt in range(len(train_index)//64):\n",
        "\n",
        "        log_ids=news_words[train_index][cnt*64:cnt*64+64,:256]\n",
        "        targets= label[train_index][cnt*64:cnt*64+64]\n",
        "\n",
        "        log_ids = torch.LongTensor(log_ids).cuda(non_blocking=True)\n",
        "        targets = torch.LongTensor(targets).cuda(non_blocking=True)\n",
        "        bz_loss, y_hat = model(log_ids, targets)\n",
        "        loss += bz_loss.data.float()\n",
        "        accuary += acc(targets, y_hat)\n",
        "        unified_loss=bz_loss\n",
        "        optimizer.zero_grad()\n",
        "        unified_loss.backward()\n",
        "        optimizer.step()\n",
        "\n",
        "        if cnt % 100== 0:\n",
        "            print( ' Ed: {}, train_loss: {:.5f}, acc: {:.5f}'.format(cnt * 64, loss.data / (cnt+1), accuary / (cnt+1)))\n",
        "    model.eval()\n",
        "    allpred=[]\n",
        "    for cnt in range(len(test_index)//64+1):\n",
        "\n",
        "        log_ids=news_words[test_index][cnt*64:cnt*64+64,:256]\n",
        "        targets= label[test_index][cnt*64:cnt*64+64]\n",
        "        log_ids = torch.LongTensor(log_ids).cuda(non_blocking=True)\n",
        "        targets = torch.LongTensor(targets).cuda(non_blocking=True)\n",
        "\n",
        "        bz_loss2, y_hat2 = model(log_ids, targets)\n",
        "        allpred+=y_hat2.to('cpu').detach().numpy().tolist()\n",
        "\n",
        "    y_pred=np.argmax(allpred,axis=-1)\n",
        "    y_true=label[test_index]\n",
        "    from sklearn.metrics import *\n",
        "    print(accuracy_score(y_true, y_pred))\n",
        "    model.train()"
      ]
    }
  ],
  "metadata": {
    "kernelspec": {
      "display_name": "Python 3",
      "language": "python",
      "name": "python3"
    },
    "language_info": {
      "codemirror_mode": {
        "name": "ipython",
        "version": 3
      },
      "file_extension": ".py",
      "mimetype": "text/x-python",
      "name": "python",
      "nbconvert_exporter": "python",
      "pygments_lexer": "ipython3",
      "version": "3.9.0"
    },
    "colab": {
      "provenance": []
    }
  },
  "nbformat": 4,
  "nbformat_minor": 0
}